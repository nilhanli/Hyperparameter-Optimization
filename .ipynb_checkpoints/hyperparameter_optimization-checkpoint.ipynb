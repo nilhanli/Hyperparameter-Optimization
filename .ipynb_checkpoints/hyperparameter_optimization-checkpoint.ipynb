{
 "cells": [
  {
   "cell_type": "code",
   "execution_count": 1,
   "metadata": {},
   "outputs": [],
   "source": [
    "import numpy as np\n",
    "import pandas as pd \n",
    "from sklearn.preprocessing import scale \n",
    "from sklearn.preprocessing import StandardScaler\n",
    "from sklearn.model_selection import train_test_split, GridSearchCV, RandomizedSearchCV, cross_val_score\n",
    "from hyperopt import hp, fmin, tpe, STATUS_OK, Trials\n",
    "from sklearn.metrics import roc_auc_score\n",
    "from sklearn.ensemble import RandomForestClassifier\n",
    "\n",
    "from warnings import filterwarnings\n",
    "filterwarnings('ignore')"
   ]
  },
  {
   "cell_type": "code",
   "execution_count": 2,
   "metadata": {},
   "outputs": [],
   "source": [
    "df=pd.read_excel('heart_failure_dataset.xlsx')"
   ]
  },
  {
   "cell_type": "code",
   "execution_count": 3,
   "metadata": {
    "tags": []
   },
   "outputs": [
    {
     "data": {
      "text/html": [
       "<div>\n",
       "<style scoped>\n",
       "    .dataframe tbody tr th:only-of-type {\n",
       "        vertical-align: middle;\n",
       "    }\n",
       "\n",
       "    .dataframe tbody tr th {\n",
       "        vertical-align: top;\n",
       "    }\n",
       "\n",
       "    .dataframe thead th {\n",
       "        text-align: right;\n",
       "    }\n",
       "</style>\n",
       "<table border=\"1\" class=\"dataframe\">\n",
       "  <thead>\n",
       "    <tr style=\"text-align: right;\">\n",
       "      <th></th>\n",
       "      <th>anaemia</th>\n",
       "      <th>diabetes</th>\n",
       "      <th>high_blood_pressure</th>\n",
       "      <th>sex</th>\n",
       "      <th>smoking</th>\n",
       "    </tr>\n",
       "  </thead>\n",
       "  <tbody>\n",
       "    <tr>\n",
       "      <th>0</th>\n",
       "      <td>0</td>\n",
       "      <td>0</td>\n",
       "      <td>1</td>\n",
       "      <td>1</td>\n",
       "      <td>0</td>\n",
       "    </tr>\n",
       "    <tr>\n",
       "      <th>1</th>\n",
       "      <td>0</td>\n",
       "      <td>0</td>\n",
       "      <td>0</td>\n",
       "      <td>1</td>\n",
       "      <td>0</td>\n",
       "    </tr>\n",
       "    <tr>\n",
       "      <th>2</th>\n",
       "      <td>0</td>\n",
       "      <td>0</td>\n",
       "      <td>0</td>\n",
       "      <td>1</td>\n",
       "      <td>1</td>\n",
       "    </tr>\n",
       "    <tr>\n",
       "      <th>3</th>\n",
       "      <td>1</td>\n",
       "      <td>0</td>\n",
       "      <td>0</td>\n",
       "      <td>1</td>\n",
       "      <td>0</td>\n",
       "    </tr>\n",
       "    <tr>\n",
       "      <th>4</th>\n",
       "      <td>1</td>\n",
       "      <td>1</td>\n",
       "      <td>0</td>\n",
       "      <td>0</td>\n",
       "      <td>0</td>\n",
       "    </tr>\n",
       "  </tbody>\n",
       "</table>\n",
       "</div>"
      ],
      "text/plain": [
       "   anaemia  diabetes  high_blood_pressure  sex  smoking\n",
       "0        0         0                    1    1        0\n",
       "1        0         0                    0    1        0\n",
       "2        0         0                    0    1        1\n",
       "3        1         0                    0    1        0\n",
       "4        1         1                    0    0        0"
      ]
     },
     "execution_count": 3,
     "metadata": {},
     "output_type": "execute_result"
    }
   ],
   "source": [
    "categorical_data = df[['anaemia','diabetes','high_blood_pressure','sex','smoking']]\n",
    "categorical_data.head()"
   ]
  },
  {
   "cell_type": "code",
   "execution_count": 4,
   "metadata": {},
   "outputs": [],
   "source": [
    "y = df['DEATH_EVENT']\n",
    "X = df.drop(['time','DEATH_EVENT','anaemia','diabetes','high_blood_pressure','sex','smoking'], axis = 1)\n",
    "cols = X.columns\n",
    "index = X.index"
   ]
  },
  {
   "cell_type": "code",
   "execution_count": 5,
   "metadata": {},
   "outputs": [],
   "source": [
    "scaler = StandardScaler()"
   ]
  },
  {
   "cell_type": "code",
   "execution_count": 6,
   "metadata": {
    "collapsed": true,
    "jupyter": {
     "outputs_hidden": true
    },
    "tags": []
   },
   "outputs": [
    {
     "data": {
      "text/html": [
       "<div>\n",
       "<style scoped>\n",
       "    .dataframe tbody tr th:only-of-type {\n",
       "        vertical-align: middle;\n",
       "    }\n",
       "\n",
       "    .dataframe tbody tr th {\n",
       "        vertical-align: top;\n",
       "    }\n",
       "\n",
       "    .dataframe thead th {\n",
       "        text-align: right;\n",
       "    }\n",
       "</style>\n",
       "<table border=\"1\" class=\"dataframe\">\n",
       "  <thead>\n",
       "    <tr style=\"text-align: right;\">\n",
       "      <th></th>\n",
       "      <th>age</th>\n",
       "      <th>creatinine_phosphokinase</th>\n",
       "      <th>ejection_fraction</th>\n",
       "      <th>platelets</th>\n",
       "      <th>serum_creatinine</th>\n",
       "      <th>serum_sodium</th>\n",
       "    </tr>\n",
       "  </thead>\n",
       "  <tbody>\n",
       "    <tr>\n",
       "      <th>0</th>\n",
       "      <td>1.192945</td>\n",
       "      <td>0.000166</td>\n",
       "      <td>-1.530560</td>\n",
       "      <td>1.681648e-02</td>\n",
       "      <td>0.490057</td>\n",
       "      <td>-1.504036</td>\n",
       "    </tr>\n",
       "    <tr>\n",
       "      <th>1</th>\n",
       "      <td>-0.491279</td>\n",
       "      <td>7.514640</td>\n",
       "      <td>-0.007077</td>\n",
       "      <td>7.535660e-09</td>\n",
       "      <td>-0.284552</td>\n",
       "      <td>-0.141976</td>\n",
       "    </tr>\n",
       "    <tr>\n",
       "      <th>2</th>\n",
       "      <td>0.350833</td>\n",
       "      <td>-0.449939</td>\n",
       "      <td>-1.530560</td>\n",
       "      <td>-1.038073e+00</td>\n",
       "      <td>-0.090900</td>\n",
       "      <td>-1.731046</td>\n",
       "    </tr>\n",
       "    <tr>\n",
       "      <th>3</th>\n",
       "      <td>-0.912335</td>\n",
       "      <td>-0.486071</td>\n",
       "      <td>-1.530560</td>\n",
       "      <td>-5.464741e-01</td>\n",
       "      <td>0.490057</td>\n",
       "      <td>0.085034</td>\n",
       "    </tr>\n",
       "    <tr>\n",
       "      <th>4</th>\n",
       "      <td>0.350833</td>\n",
       "      <td>-0.435486</td>\n",
       "      <td>-1.530560</td>\n",
       "      <td>6.517986e-01</td>\n",
       "      <td>1.264666</td>\n",
       "      <td>-4.682176</td>\n",
       "    </tr>\n",
       "  </tbody>\n",
       "</table>\n",
       "</div>"
      ],
      "text/plain": [
       "        age  creatinine_phosphokinase  ejection_fraction     platelets  \\\n",
       "0  1.192945                  0.000166          -1.530560  1.681648e-02   \n",
       "1 -0.491279                  7.514640          -0.007077  7.535660e-09   \n",
       "2  0.350833                 -0.449939          -1.530560 -1.038073e+00   \n",
       "3 -0.912335                 -0.486071          -1.530560 -5.464741e-01   \n",
       "4  0.350833                 -0.435486          -1.530560  6.517986e-01   \n",
       "\n",
       "   serum_creatinine  serum_sodium  \n",
       "0          0.490057     -1.504036  \n",
       "1         -0.284552     -0.141976  \n",
       "2         -0.090900     -1.731046  \n",
       "3          0.490057      0.085034  \n",
       "4          1.264666     -4.682176  "
      ]
     },
     "execution_count": 6,
     "metadata": {},
     "output_type": "execute_result"
    }
   ],
   "source": [
    "scaler.fit(X)\n",
    "X_scaled = scaler.transform(X)\n",
    "X_scaled = pd.DataFrame(X_scaled, columns = cols, index = index)\n",
    "X_scaled.head()"
   ]
  },
  {
   "cell_type": "code",
   "execution_count": 7,
   "metadata": {
    "tags": []
   },
   "outputs": [],
   "source": [
    "X = pd.concat([X_scaled, categorical_data], axis = 1)"
   ]
  },
  {
   "cell_type": "code",
   "execution_count": 8,
   "metadata": {},
   "outputs": [],
   "source": [
    "X_train, X_test, y_train, y_test = train_test_split(X, y, \n",
    "                                                    test_size = 0.70, \n",
    "                                                    random_state = 1234)"
   ]
  },
  {
   "cell_type": "code",
   "execution_count": 9,
   "metadata": {
    "collapsed": true,
    "jupyter": {
     "outputs_hidden": true
    },
    "tags": []
   },
   "outputs": [
    {
     "data": {
      "text/html": [
       "<div>\n",
       "<style scoped>\n",
       "    .dataframe tbody tr th:only-of-type {\n",
       "        vertical-align: middle;\n",
       "    }\n",
       "\n",
       "    .dataframe tbody tr th {\n",
       "        vertical-align: top;\n",
       "    }\n",
       "\n",
       "    .dataframe thead th {\n",
       "        text-align: right;\n",
       "    }\n",
       "</style>\n",
       "<table border=\"1\" class=\"dataframe\">\n",
       "  <thead>\n",
       "    <tr style=\"text-align: right;\">\n",
       "      <th></th>\n",
       "      <th>age</th>\n",
       "      <th>creatinine_phosphokinase</th>\n",
       "      <th>ejection_fraction</th>\n",
       "      <th>platelets</th>\n",
       "      <th>serum_creatinine</th>\n",
       "      <th>serum_sodium</th>\n",
       "      <th>anaemia</th>\n",
       "      <th>diabetes</th>\n",
       "      <th>high_blood_pressure</th>\n",
       "      <th>sex</th>\n",
       "      <th>smoking</th>\n",
       "    </tr>\n",
       "  </thead>\n",
       "  <tbody>\n",
       "    <tr>\n",
       "      <th>90</th>\n",
       "      <td>0.771889</td>\n",
       "      <td>-0.532527</td>\n",
       "      <td>0.585389</td>\n",
       "      <td>-0.147050</td>\n",
       "      <td>-0.575031</td>\n",
       "      <td>-0.141976</td>\n",
       "      <td>0</td>\n",
       "      <td>1</td>\n",
       "      <td>0</td>\n",
       "      <td>1</td>\n",
       "      <td>1</td>\n",
       "    </tr>\n",
       "    <tr>\n",
       "      <th>98</th>\n",
       "      <td>-0.070223</td>\n",
       "      <td>-0.439615</td>\n",
       "      <td>-1.107370</td>\n",
       "      <td>0.559624</td>\n",
       "      <td>-0.187726</td>\n",
       "      <td>0.085034</td>\n",
       "      <td>1</td>\n",
       "      <td>1</td>\n",
       "      <td>1</td>\n",
       "      <td>0</td>\n",
       "      <td>0</td>\n",
       "    </tr>\n",
       "    <tr>\n",
       "      <th>121</th>\n",
       "      <td>0.435044</td>\n",
       "      <td>-0.530462</td>\n",
       "      <td>-0.007077</td>\n",
       "      <td>-1.038073</td>\n",
       "      <td>-0.381379</td>\n",
       "      <td>-0.141976</td>\n",
       "      <td>1</td>\n",
       "      <td>1</td>\n",
       "      <td>1</td>\n",
       "      <td>0</td>\n",
       "      <td>0</td>\n",
       "    </tr>\n",
       "    <tr>\n",
       "      <th>0</th>\n",
       "      <td>1.192945</td>\n",
       "      <td>0.000166</td>\n",
       "      <td>-1.530560</td>\n",
       "      <td>0.016816</td>\n",
       "      <td>0.490057</td>\n",
       "      <td>-1.504036</td>\n",
       "      <td>0</td>\n",
       "      <td>0</td>\n",
       "      <td>1</td>\n",
       "      <td>1</td>\n",
       "      <td>0</td>\n",
       "    </tr>\n",
       "    <tr>\n",
       "      <th>105</th>\n",
       "      <td>0.940312</td>\n",
       "      <td>-0.262051</td>\n",
       "      <td>-0.684180</td>\n",
       "      <td>3.662843</td>\n",
       "      <td>0.296405</td>\n",
       "      <td>0.312044</td>\n",
       "      <td>1</td>\n",
       "      <td>0</td>\n",
       "      <td>1</td>\n",
       "      <td>0</td>\n",
       "      <td>1</td>\n",
       "    </tr>\n",
       "  </tbody>\n",
       "</table>\n",
       "</div>"
      ],
      "text/plain": [
       "          age  creatinine_phosphokinase  ejection_fraction  platelets  \\\n",
       "90   0.771889                 -0.532527           0.585389  -0.147050   \n",
       "98  -0.070223                 -0.439615          -1.107370   0.559624   \n",
       "121  0.435044                 -0.530462          -0.007077  -1.038073   \n",
       "0    1.192945                  0.000166          -1.530560   0.016816   \n",
       "105  0.940312                 -0.262051          -0.684180   3.662843   \n",
       "\n",
       "     serum_creatinine  serum_sodium  anaemia  diabetes  high_blood_pressure  \\\n",
       "90          -0.575031     -0.141976        0         1                    0   \n",
       "98          -0.187726      0.085034        1         1                    1   \n",
       "121         -0.381379     -0.141976        1         1                    1   \n",
       "0            0.490057     -1.504036        0         0                    1   \n",
       "105          0.296405      0.312044        1         0                    1   \n",
       "\n",
       "     sex  smoking  \n",
       "90     1        1  \n",
       "98     0        0  \n",
       "121    0        0  \n",
       "0      1        0  \n",
       "105    0        1  "
      ]
     },
     "execution_count": 9,
     "metadata": {},
     "output_type": "execute_result"
    }
   ],
   "source": [
    "X_train.head()"
   ]
  },
  {
   "cell_type": "markdown",
   "metadata": {},
   "source": [
    "## Grid Search"
   ]
  },
  {
   "cell_type": "code",
   "execution_count": 10,
   "metadata": {},
   "outputs": [],
   "source": [
    "params_grid_search = {'max_depth': [1,3,5],\n",
    "                      'criterion' :['gini', 'entropy'],\n",
    "                      'max_features': ['sqrt', 'log2', 'auto'],\n",
    "                      'n_estimators': [100, 300, 500],\n",
    "                      'min_samples_split': [0.01, 0.05, 0.1]}"
   ]
  },
  {
   "cell_type": "code",
   "execution_count": 11,
   "metadata": {},
   "outputs": [],
   "source": [
    "model_grid_search = RandomForestClassifier(random_state=1234)\n",
    "\n",
    "cv_model_grid_search = GridSearchCV(model_grid_search,\n",
    "                                    params_grid_search,\n",
    "                                    cv = 10,\n",
    "                                    n_jobs = -1, \n",
    "                                    verbose = 2) "
   ]
  },
  {
   "cell_type": "code",
   "execution_count": 12,
   "metadata": {},
   "outputs": [
    {
     "name": "stdout",
     "output_type": "stream",
     "text": [
      "Fitting 10 folds for each of 162 candidates, totalling 1620 fits\n"
     ]
    },
    {
     "data": {
      "text/plain": [
       "GridSearchCV(cv=10, estimator=RandomForestClassifier(random_state=1234),\n",
       "             n_jobs=-1,\n",
       "             param_grid={'criterion': ['gini', 'entropy'],\n",
       "                         'max_depth': [1, 3, 5],\n",
       "                         'max_features': ['sqrt', 'log2', 'auto'],\n",
       "                         'min_samples_split': [0.01, 0.05, 0.1],\n",
       "                         'n_estimators': [100, 300, 500]},\n",
       "             verbose=2)"
      ]
     },
     "execution_count": 12,
     "metadata": {},
     "output_type": "execute_result"
    }
   ],
   "source": [
    "cv_model_grid_search.fit(X_train, y_train)"
   ]
  },
  {
   "cell_type": "code",
   "execution_count": 13,
   "metadata": {},
   "outputs": [
    {
     "name": "stdout",
     "output_type": "stream",
     "text": [
      "Best parameters: {'criterion': 'gini', 'max_depth': 3, 'max_features': 'sqrt', 'min_samples_split': 0.05, 'n_estimators': 100}\n"
     ]
    }
   ],
   "source": [
    "print(\"Best parameters: \" + str(cv_model_grid_search.best_params_))"
   ]
  },
  {
   "cell_type": "code",
   "execution_count": 14,
   "metadata": {},
   "outputs": [
    {
     "data": {
      "text/plain": [
       "RandomForestClassifier(max_depth=3, max_features='sqrt', min_samples_split=0.05,\n",
       "                       random_state=1234)"
      ]
     },
     "execution_count": 14,
     "metadata": {},
     "output_type": "execute_result"
    }
   ],
   "source": [
    "tuned_model_grid_search = RandomForestClassifier(max_depth = 3,\n",
    "                                                 criterion = 'gini',\n",
    "                                                 max_features = 'sqrt', \n",
    "                                                 min_samples_split = 0.05,\n",
    "                                                 n_estimators = 100,\n",
    "                                                 random_state = 1234)\n",
    "\n",
    "tuned_model_grid_search.fit(X_train, y_train)"
   ]
  },
  {
   "cell_type": "code",
   "execution_count": 15,
   "metadata": {},
   "outputs": [
    {
     "data": {
      "text/plain": [
       "0.8063633600162123"
      ]
     },
     "execution_count": 15,
     "metadata": {},
     "output_type": "execute_result"
    }
   ],
   "source": [
    "y_prob_grid_search = tuned_model_grid_search.predict_proba(X_test)[:, 1]\n",
    "roc_grid_search = roc_auc_score(y_test, y_prob_grid_search)\n",
    "roc_grid_search"
   ]
  },
  {
   "cell_type": "markdown",
   "metadata": {},
   "source": [
    "## Random Search"
   ]
  },
  {
   "cell_type": "code",
   "execution_count": 16,
   "metadata": {},
   "outputs": [],
   "source": [
    "params_random_search = {'max_depth': [1,2,3,4,5],\n",
    "                        'criterion' :['gini', 'entropy'],\n",
    "                        'max_features': ['sqrt', 'log2', 'auto'],\n",
    "                        'n_estimators': [100, 200, 300, 400, 500],\n",
    "                        'min_samples_split': [0.01, 0.03, 0.05, 0.07, 0.1]}"
   ]
  },
  {
   "cell_type": "code",
   "execution_count": 17,
   "metadata": {},
   "outputs": [],
   "source": [
    "model_random_search = RandomForestClassifier(random_state = 1234)\n",
    "cv_model_random_search = RandomizedSearchCV(model_random_search,\n",
    "                                            params_random_search,\n",
    "                                            n_iter = 50,\n",
    "                                            cv = 10,\n",
    "                                            n_jobs = -1,\n",
    "                                            verbose = 2,\n",
    "                                            random_state = 1234)"
   ]
  },
  {
   "cell_type": "code",
   "execution_count": 18,
   "metadata": {},
   "outputs": [
    {
     "name": "stdout",
     "output_type": "stream",
     "text": [
      "Fitting 10 folds for each of 50 candidates, totalling 500 fits\n"
     ]
    },
    {
     "data": {
      "text/plain": [
       "RandomizedSearchCV(cv=10, estimator=RandomForestClassifier(random_state=1234),\n",
       "                   n_iter=50, n_jobs=-1,\n",
       "                   param_distributions={'criterion': ['gini', 'entropy'],\n",
       "                                        'max_depth': [1, 2, 3, 4, 5],\n",
       "                                        'max_features': ['sqrt', 'log2',\n",
       "                                                         'auto'],\n",
       "                                        'min_samples_split': [0.01, 0.03, 0.05,\n",
       "                                                              0.07, 0.1],\n",
       "                                        'n_estimators': [100, 200, 300, 400,\n",
       "                                                         500]},\n",
       "                   random_state=1234, verbose=2)"
      ]
     },
     "execution_count": 18,
     "metadata": {},
     "output_type": "execute_result"
    }
   ],
   "source": [
    "cv_model_random_search.fit(X_train,y_train)"
   ]
  },
  {
   "cell_type": "code",
   "execution_count": 19,
   "metadata": {},
   "outputs": [
    {
     "name": "stdout",
     "output_type": "stream",
     "text": [
      "Best parameters: {'n_estimators': 100, 'min_samples_split': 0.05, 'max_features': 'log2', 'max_depth': 3, 'criterion': 'entropy'}\n"
     ]
    }
   ],
   "source": [
    "print(\"Best parameters: \" + str(cv_model_random_search.best_params_))"
   ]
  },
  {
   "cell_type": "code",
   "execution_count": 20,
   "metadata": {},
   "outputs": [
    {
     "data": {
      "text/plain": [
       "RandomForestClassifier(criterion='entropy', max_depth=3, max_features='log2',\n",
       "                       min_samples_split=0.05, random_state=1234)"
      ]
     },
     "execution_count": 20,
     "metadata": {},
     "output_type": "execute_result"
    }
   ],
   "source": [
    "tuned_model_random_search = RandomForestClassifier(max_depth = 3,\n",
    "                                                   criterion = 'entropy',\n",
    "                                                   max_features = 'log2',\n",
    "                                                   min_samples_split = 0.05,\n",
    "                                                   n_estimators = 100,\n",
    "                                                   random_state = 1234)\n",
    "\n",
    "tuned_model_random_search.fit(X_train, y_train)"
   ]
  },
  {
   "cell_type": "code",
   "execution_count": 21,
   "metadata": {},
   "outputs": [
    {
     "data": {
      "text/plain": [
       "0.7999797345222414"
      ]
     },
     "execution_count": 21,
     "metadata": {},
     "output_type": "execute_result"
    }
   ],
   "source": [
    "y_prob_random_search = tuned_model_random_search.predict_proba(X_test)[:, 1]\n",
    "roc_random_search = roc_auc_score(y_test, y_prob_random_search)\n",
    "roc_random_search"
   ]
  },
  {
   "cell_type": "markdown",
   "metadata": {},
   "source": [
    "## Bayesian Hyperparameter Optimization with Hyperopt"
   ]
  },
  {
   "cell_type": "code",
   "execution_count": 22,
   "metadata": {},
   "outputs": [],
   "source": [
    "params_hyperopt = {'max_depth' : hp.quniform('max_depth', 1, 5, 1),\n",
    "                   'criterion': hp.choice('criterion', ['gini', 'entropy']),\n",
    "                   'max_features': hp.choice('max_features', ['sqrt', 'log2', 'auto']),\n",
    "                   'n_estimators': hp.quniform('n_estimators', 100, 500, 100),\n",
    "                   'min_samples_split' : hp.quniform('min_samples_split', 0.01, 0.1, 0.01)}"
   ]
  },
  {
   "cell_type": "code",
   "execution_count": 23,
   "metadata": {},
   "outputs": [],
   "source": [
    "def objective(params_hyperopt):\n",
    "    \n",
    "    model_hyperopt = RandomForestClassifier(max_depth = params_hyperopt['max_depth'],\n",
    "                                            criterion = params_hyperopt['criterion'],\n",
    "                                            max_features = params_hyperopt['max_features'],\n",
    "                                            n_estimators = int(params_hyperopt['n_estimators']),\n",
    "                                            min_samples_split = params_hyperopt['min_samples_split'],\n",
    "                                            random_state = 1234)\n",
    "\n",
    "    cv_model_random_search = cross_val_score(model_hyperopt,\n",
    "                                             X = X_train,\n",
    "                                             y = y_train,\n",
    "                                             scoring = 'roc_auc',\n",
    "                                             cv = 10).mean()\n",
    "\n",
    "    return {'loss': -cv_model_random_search, 'status': STATUS_OK }"
   ]
  },
  {
   "cell_type": "code",
   "execution_count": 24,
   "metadata": {},
   "outputs": [
    {
     "name": "stdout",
     "output_type": "stream",
     "text": [
      "100%|██████████| 50/50 [02:03<00:00,  2.48s/trial, best loss: -0.8305555555555555]\n"
     ]
    }
   ],
   "source": [
    "trials = Trials()\n",
    "best_hyperopt = fmin(fn = objective,\n",
    "                     space = params_hyperopt,\n",
    "                     algo = tpe.suggest,\n",
    "                     max_evals = 50,\n",
    "                     trials = trials,\n",
    "                     rstate = np.random.RandomState(1234))"
   ]
  },
  {
   "cell_type": "code",
   "execution_count": 25,
   "metadata": {},
   "outputs": [
    {
     "name": "stdout",
     "output_type": "stream",
     "text": [
      "Best parameters: {'criterion': 1, 'max_depth': 2.0, 'max_features': 2, 'min_samples_split': 0.01, 'n_estimators': 100.0}\n"
     ]
    }
   ],
   "source": [
    "print(\"Best parameters: \" + str(best_hyperopt))"
   ]
  },
  {
   "cell_type": "code",
   "execution_count": 26,
   "metadata": {},
   "outputs": [
    {
     "data": {
      "text/plain": [
       "RandomForestClassifier(criterion='entropy', max_depth=2, min_samples_split=0.01,\n",
       "                       random_state=1234)"
      ]
     },
     "execution_count": 26,
     "metadata": {},
     "output_type": "execute_result"
    }
   ],
   "source": [
    "tuned_model_hyperopt = RandomForestClassifier(max_depth = 2,\n",
    "                                              criterion = 'entropy',\n",
    "                                              max_features = 'auto',\n",
    "                                              min_samples_split = 0.01,\n",
    "                                              n_estimators = 100,\n",
    "                                              random_state = 1234)\n",
    "\n",
    "tuned_model_hyperopt.fit(X_train, y_train)"
   ]
  },
  {
   "cell_type": "code",
   "execution_count": 27,
   "metadata": {},
   "outputs": [
    {
     "name": "stdout",
     "output_type": "stream",
     "text": [
      "0.7976492045799979\n"
     ]
    }
   ],
   "source": [
    "y_prob_hyperopt = tuned_model_hyperopt.predict_proba(X_test)[:, 1]\n",
    "roc_hyperopt = roc_auc_score(y_test, y_prob_hyperopt)\n",
    "print(roc_hyperopt)"
   ]
  }
 ],
 "metadata": {
  "kernelspec": {
   "display_name": "Python 3",
   "language": "python",
   "name": "python3"
  },
  "language_info": {
   "codemirror_mode": {
    "name": "ipython",
    "version": 3
   },
   "file_extension": ".py",
   "mimetype": "text/x-python",
   "name": "python",
   "nbconvert_exporter": "python",
   "pygments_lexer": "ipython3",
   "version": "3.8.3"
  }
 },
 "nbformat": 4,
 "nbformat_minor": 4
}
